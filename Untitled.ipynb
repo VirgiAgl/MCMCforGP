{
 "cells": [
  {
   "cell_type": "code",
   "execution_count": 1,
   "metadata": {},
   "outputs": [],
   "source": [
    "import matplotlib.pyplot as plt\n",
    "import numpy as np\n",
    "import seaborn as sns\n",
    "from scipy.stats import beta\n",
    "import scipy.stats as sp\n",
    "import scipy\n"
   ]
  },
  {
   "cell_type": "code",
   "execution_count": 44,
   "metadata": {},
   "outputs": [],
   "source": [
    "\n",
    "s = 1.\n",
    "x = np.linspace(scipy.stats.lognorm.ppf(0.01, s),\n",
    "              scipy.stats.lognorm.ppf(0.99, s), 100)\n",
    "# plt.plot(x, scipy.stats.lognorm.pdf(x, s),\n",
    "#      'r-', lw=5, alpha=0.6, label='lognorm pdf')\n",
    "# plt.show()\n",
    "\n",
    "x = np.linspace(1,5,50)\n",
    "tau = 1.0\n",
    "Sigma = np.zeros((len(x), len(x)))\n",
    "for i in range(len(x)):\n",
    "    for j in range(len(x)):\n",
    "        Sigma[i, j] = tau**2 * min(x[i], x[j])\n",
    "        \n",
    "        \n",
    "\n",
    "# plt.imshow(Sigma)\n",
    "\n",
    "function = np.mean(np.exp(np.random.multivariate_normal(np.repeat(3.26, 50), Sigma, 50)), axis = 0)\n",
    "# plt.plot(function)\n",
    "# plt.show()"
   ]
  },
  {
   "cell_type": "code",
   "execution_count": 3,
   "metadata": {},
   "outputs": [],
   "source": [
    "## Analyse MCMC"
   ]
  },
  {
   "cell_type": "code",
   "execution_count": 4,
   "metadata": {},
   "outputs": [],
   "source": [
    "f_star = np.load('f_star.npy')\n",
    "cov_f_star = np.load('cov_f_star.npy')\n",
    "l_scale_samples = np.load('l_scale_samples.npy')\n",
    "var_samples = np.load('var_samples.npy')\n",
    "noise_var_samples = np.load('noise_var_samples.npy')"
   ]
  },
  {
   "cell_type": "code",
   "execution_count": 28,
   "metadata": {},
   "outputs": [],
   "source": [
    "matrix = np.reshape(np.linspace(1,5,4), (2,2))"
   ]
  },
  {
   "cell_type": "code",
   "execution_count": 29,
   "metadata": {},
   "outputs": [
    {
     "data": {
      "text/plain": [
       "array([[1., 2.],\n",
       "       [2., 5.]])"
      ]
     },
     "execution_count": 29,
     "metadata": {},
     "output_type": "execute_result"
    }
   ],
   "source": [
    "matrix[0,1] = 2\n",
    "matrix[1,0] = 2\n",
    "matrix"
   ]
  },
  {
   "cell_type": "code",
   "execution_count": 30,
   "metadata": {},
   "outputs": [],
   "source": [
    "value, vect = np.linalg.eig(matrix)"
   ]
  },
  {
   "cell_type": "code",
   "execution_count": 31,
   "metadata": {},
   "outputs": [
    {
     "data": {
      "text/plain": [
       "array([0.17157288, 5.82842712])"
      ]
     },
     "execution_count": 31,
     "metadata": {},
     "output_type": "execute_result"
    }
   ],
   "source": [
    "value"
   ]
  },
  {
   "cell_type": "code",
   "execution_count": 32,
   "metadata": {},
   "outputs": [
    {
     "data": {
      "text/plain": [
       "array([[-0.92387953, -0.38268343],\n",
       "       [ 0.38268343, -0.92387953]])"
      ]
     },
     "execution_count": 32,
     "metadata": {},
     "output_type": "execute_result"
    }
   ],
   "source": [
    "vect"
   ]
  },
  {
   "cell_type": "code",
   "execution_count": 34,
   "metadata": {},
   "outputs": [],
   "source": [
    "inv_vect = np.linalg.inv(vect)"
   ]
  },
  {
   "cell_type": "code",
   "execution_count": 35,
   "metadata": {},
   "outputs": [
    {
     "data": {
      "text/plain": [
       "array([[-0.92387953,  0.38268343],\n",
       "       [-0.38268343, -0.92387953]])"
      ]
     },
     "execution_count": 35,
     "metadata": {},
     "output_type": "execute_result"
    }
   ],
   "source": [
    "inv_vect"
   ]
  },
  {
   "cell_type": "code",
   "execution_count": 15,
   "metadata": {},
   "outputs": [],
   "source": [
    "D = np.diag(value)"
   ]
  },
  {
   "cell_type": "code",
   "execution_count": 17,
   "metadata": {},
   "outputs": [
    {
     "data": {
      "text/plain": [
       "array([[1.        , 2.33333333],\n",
       "       [3.66666667, 5.        ]])"
      ]
     },
     "execution_count": 17,
     "metadata": {},
     "output_type": "execute_result"
    }
   ],
   "source": [
    "np.dot(np.dot(vect, D), inv_vect)"
   ]
  },
  {
   "cell_type": "code",
   "execution_count": 20,
   "metadata": {},
   "outputs": [
    {
     "data": {
      "text/plain": [
       "(array([[-0.37283495, -0.92789768],\n",
       "        [-0.92789768,  0.37283495]]),\n",
       " array([6.67873276, 0.53236979]),\n",
       " array([[-0.56524592, -0.82492245],\n",
       "        [ 0.82492245, -0.56524592]]))"
      ]
     },
     "execution_count": 20,
     "metadata": {},
     "output_type": "execute_result"
    }
   ],
   "source": [
    "np.linalg.svd(matrix)"
   ]
  },
  {
   "cell_type": "code",
   "execution_count": 33,
   "metadata": {},
   "outputs": [
    {
     "data": {
      "text/plain": [
       "array([[-0.92387953,  0.38268343],\n",
       "       [-0.38268343, -0.92387953]])"
      ]
     },
     "execution_count": 33,
     "metadata": {},
     "output_type": "execute_result"
    }
   ],
   "source": [
    "np.transpose(vect)"
   ]
  },
  {
   "cell_type": "code",
   "execution_count": 57,
   "metadata": {},
   "outputs": [],
   "source": [
    "np.random.seed(20)\n",
    "Beta_process = sp.multivariate_normal.rvs(mean = np.zeros(50), cov=1.*np.eye(50))"
   ]
  },
  {
   "cell_type": "code",
   "execution_count": 58,
   "metadata": {},
   "outputs": [
    {
     "data": {
      "text/plain": [
       "[<matplotlib.lines.Line2D at 0x1a1a771b50>]"
      ]
     },
     "execution_count": 58,
     "metadata": {},
     "output_type": "execute_result"
    },
    {
     "data": {
      "image/png": "[encoded data removed]",
      "text/plain": [
       "<Figure size 432x288 with 1 Axes>"
      ]
     },
     "metadata": {
      "needs_background": "light"
     },
     "output_type": "display_data"
    }
   ],
   "source": [
    "plt.plot(Beta_process)"
   ]
  },
  {
   "cell_type": "code",
   "execution_count": 52,
   "metadata": {},
   "outputs": [],
   "source": [
    "## Poisson regression\n",
    "import statsmodels.api as sm\n",
    "%matplotlib inline\n",
    "import sys\n",
    "import re\n",
    "import numpy as np\n",
    "import pandas as pd\n",
    "import matplotlib.pyplot as plt\n",
    "plt.style.use('seaborn-darkgrid')\n",
    "import seaborn as sns\n",
    "import patsy as pt\n",
    "import pymc3 as pm\n",
    "from statsmodels.base.model import GenericLikelihoodModel"
   ]
  },
  {
   "cell_type": "code",
   "execution_count": 44,
   "metadata": {},
   "outputs": [],
   "source": [
    "def strip_derived_rvs(rvs):\n",
    "    '''Convenience fn: remove PyMC3-generated RVs from a list'''\n",
    "    ret_rvs = []\n",
    "    for rv in rvs:\n",
    "        if not (re.search('_log',rv.name) or re.search('_interval',rv.name)):\n",
    "            ret_rvs.append(rv)\n",
    "    return ret_rvs\n",
    "\n",
    "\n",
    "def plot_traces_pymc(trcs, varnames=None):\n",
    "    ''' Convenience fn: plot traces with overlaid means and values '''\n",
    "\n",
    "    nrows = len(trcs.varnames)\n",
    "    if varnames is not None:\n",
    "        nrows = len(varnames)\n",
    "\n",
    "    ax = pm.traceplot(trcs, varnames=varnames, figsize=(12,nrows*1.4),\n",
    "                      lines={k: v['mean'] for k, v in\n",
    "                             pm.summary(trcs,varnames=varnames).iterrows()})\n",
    "\n",
    "    for i, mn in enumerate(pm.summary(trcs, varnames=varnames)['mean']):\n",
    "        ax[i,0].annotate('{:.2f}'.format(mn), xy=(mn,0), xycoords='data',\n",
    "                         xytext=(5,10), textcoords='offset points', rotation=90,\n",
    "                         va='bottom', fontsize='large', color='#AA0022')"
   ]
  },
  {
   "cell_type": "code",
   "execution_count": 6,
   "metadata": {},
   "outputs": [],
   "source": [
    "# decide poisson theta values\n",
    "theta_noalcohol_meds = 1    # no alcohol, took an antihist\n",
    "theta_alcohol_meds = 3      # alcohol, took an antihist\n",
    "theta_noalcohol_nomeds = 6  # no alcohol, no antihist\n",
    "theta_alcohol_nomeds = 36   # alcohol, no antihist\n",
    "\n",
    "# create samples\n",
    "q = 1000\n",
    "df = pd.DataFrame({\n",
    "        'nsneeze': np.concatenate((np.random.poisson(theta_noalcohol_meds, q),\n",
    "                                   np.random.poisson(theta_alcohol_meds, q),\n",
    "                                   np.random.poisson(theta_noalcohol_nomeds, q),\n",
    "                                   np.random.poisson(theta_alcohol_nomeds, q))),\n",
    "        'alcohol': np.concatenate((np.repeat(False, q),\n",
    "                                   np.repeat(True, q),\n",
    "                                   np.repeat(False, q),\n",
    "                                   np.repeat(True, q))),\n",
    "        'nomeds': np.concatenate((np.repeat(False, q),\n",
    "                                      np.repeat(False, q),\n",
    "                                      np.repeat(True, q),\n",
    "                                      np.repeat(True, q)))})\n"
   ]
  },
  {
   "cell_type": "code",
   "execution_count": 65,
   "metadata": {},
   "outputs": [],
   "source": [
    "## 100 individual with 3 vars\n",
    "nobs = 100\n",
    "X = np.random.random((nobs, 2))\n",
    "X = sm.add_constant(X)\n",
    "beta = [1, .1, .5]\n",
    "e = np.random.random(nobs)\n",
    "y = np.random.poisson(np.dot(X, beta))"
   ]
  },
  {
   "cell_type": "code",
   "execution_count": 66,
   "metadata": {},
   "outputs": [],
   "source": [
    "Poisson_model = sm.GLM(y, X, family=sm.families.Poisson())\n",
    "results = Poisson_model.fit()"
   ]
  },
  {
   "cell_type": "code",
   "execution_count": 67,
   "metadata": {},
   "outputs": [
    {
     "name": "stdout",
     "output_type": "stream",
     "text": [
      "                 Generalized Linear Model Regression Results                  \n",
      "==============================================================================\n",
      "Dep. Variable:                      y   No. Observations:                  100\n",
      "Model:                            GLM   Df Residuals:                       97\n",
      "Model Family:                 Poisson   Df Model:                            2\n",
      "Link Function:                    log   Scale:                          1.0000\n",
      "Method:                          IRLS   Log-Likelihood:                -139.11\n",
      "Date:                Mon, 11 Feb 2019   Deviance:                       117.74\n",
      "Time:                        16:33:24   Pearson chi2:                     95.2\n",
      "No. Iterations:                     5   Covariance Type:             nonrobust\n",
      "==============================================================================\n",
      "                 coef    std err          z      P>|z|      [0.025      0.975]\n",
      "------------------------------------------------------------------------------\n",
      "const         -0.1971      0.261     -0.756      0.449      -0.708       0.314\n",
      "x1             0.1563      0.331      0.472      0.637      -0.493       0.806\n",
      "x2             0.5534      0.308      1.794      0.073      -0.051       1.158\n",
      "==============================================================================\n"
     ]
    }
   ],
   "source": [
    "print(results.summary())"
   ]
  },
  {
   "cell_type": "code",
   "execution_count": 68,
   "metadata": {},
   "outputs": [
    {
     "data": {
      "text/plain": [
       "array([[ 0.06792543, -0.06079956, -0.05471643],\n",
       "       [-0.06079956,  0.10978874,  0.00991576],\n",
       "       [-0.05471643,  0.00991576,  0.0951495 ]])"
      ]
     },
     "execution_count": 68,
     "metadata": {},
     "output_type": "execute_result"
    }
   ],
   "source": [
    "var_beta_hat = np.linalg.inv(- Poisson_model.information(results.params))\n",
    "var_beta_hat"
   ]
  },
  {
   "cell_type": "code",
   "execution_count": 103,
   "metadata": {},
   "outputs": [],
   "source": [
    "X_matrix = np.load('X_matrix.npy')[:,:10]\n",
    "y_counts = np.load('y_counts.npy')[:,np.newaxis]\n",
    "X_subset = np.load('X_subset.npy')"
   ]
  },
  {
   "cell_type": "code",
   "execution_count": 104,
   "metadata": {},
   "outputs": [],
   "source": [
    "Poisson_model = sm.GLM(y_counts, X_subset, family=sm.families.Poisson())\n",
    "results = Poisson_model.fit()"
   ]
  },
  {
   "cell_type": "code",
   "execution_count": 99,
   "metadata": {},
   "outputs": [
    {
     "data": {
      "text/plain": [
       "<matplotlib.image.AxesImage at 0x1c19ae81d0>"
      ]
     },
     "execution_count": 99,
     "metadata": {},
     "output_type": "execute_result"
    },
    {
     "data": {
      "image/png": "[encoded data removed]",
      "text/plain": [
       "<Figure size 432x288 with 1 Axes>"
      ]
     },
     "metadata": {},
     "output_type": "display_data"
    }
   ],
   "source": [
    "plt.imshow(X_matrix)"
   ]
  },
  {
   "cell_type": "code",
   "execution_count": 105,
   "metadata": {},
   "outputs": [
    {
     "name": "stdout",
     "output_type": "stream",
     "text": [
      "                 Generalized Linear Model Regression Results                  \n",
      "==============================================================================\n",
      "Dep. Variable:                      y   No. Observations:                   10\n",
      "Model:                            GLM   Df Residuals:                        5\n",
      "Model Family:                 Poisson   Df Model:                            4\n",
      "Link Function:                    log   Scale:                          1.0000\n",
      "Method:                          IRLS   Log-Likelihood:                -5.6985\n",
      "Date:                Mon, 11 Feb 2019   Deviance:                       3.3969\n",
      "Time:                        17:19:04   Pearson chi2:                     2.80\n",
      "No. Iterations:                     7   Covariance Type:             nonrobust\n",
      "==============================================================================\n",
      "                 coef    std err          z      P>|z|      [0.025      0.975]\n",
      "------------------------------------------------------------------------------\n",
      "x1            -3.4680      2.748     -1.262      0.207      -8.854       1.918\n",
      "x2             2.6726      2.903      0.921      0.357      -3.018       8.363\n",
      "x3             0.4677      1.275      0.367      0.714      -2.031       2.967\n",
      "x4            -3.5155      3.721     -0.945      0.345     -10.809       3.778\n",
      "x5            -5.5443      5.304     -1.045      0.296     -15.941       4.852\n",
      "==============================================================================\n"
     ]
    }
   ],
   "source": [
    "print(results.summary())"
   ]
  },
  {
   "cell_type": "code",
   "execution_count": 106,
   "metadata": {},
   "outputs": [
    {
     "data": {
      "text/plain": [
       "array([[  7.55027758,  -7.40291264,  -0.7521141 ,   9.22171546,\n",
       "         12.25634055],\n",
       "       [ -7.40291264,   8.4284202 ,   0.80485307,  -9.76130618,\n",
       "        -12.64412956],\n",
       "       [ -0.7521141 ,   0.80485307,   1.62553927,  -0.65016627,\n",
       "         -3.01729833],\n",
       "       [  9.22171546,  -9.76130618,  -0.65016627,  13.8490412 ,\n",
       "         15.10811841],\n",
       "       [ 12.25634055, -12.64412956,  -3.01729833,  15.10811841,\n",
       "         28.13571287]])"
      ]
     },
     "execution_count": 106,
     "metadata": {},
     "output_type": "execute_result"
    }
   ],
   "source": [
    "var_beta_hat = np.linalg.inv(- Poisson_model.information(results.params))\n",
    "var_beta_hat"
   ]
  },
  {
   "cell_type": "code",
   "execution_count": 69,
   "metadata": {},
   "outputs": [],
   "source": [
    "X_matrix = np.load('X_matrix.npy')\n",
    "D_matrix = np.load('D_matrix.npy')\n",
    "D_matrix_mod = np.load('D_matrix_mod.npy')"
   ]
  },
  {
   "cell_type": "code",
   "execution_count": 114,
   "metadata": {},
   "outputs": [
    {
     "data": {
      "text/plain": [
       "array([[-3.11794683e-01,  5.07105551e-01, -5.41258795e-01,\n",
       "         4.52362719e-01,  3.15120443e-01,  1.89359461e-01,\n",
       "        -1.00439730e-01, -4.78030497e-02, -2.06591729e-02,\n",
       "        -8.17922202e-03],\n",
       "       [-3.42093490e-01,  5.42592201e-01, -5.53634465e-01,\n",
       "         4.31215619e-01,  2.70348978e-01,  1.38914118e-01,\n",
       "        -5.80051644e-02, -1.85308058e-02, -3.36127252e-03,\n",
       "         8.02634265e-04],\n",
       "       [-3.73133121e-01,  5.75924127e-01, -5.58875853e-01,\n",
       "         4.00689365e-01,  2.19042609e-01,  8.77602142e-02,\n",
       "        -1.99512575e-02,  4.10039460e-03,  7.65414287e-03,\n",
       "         5.16031055e-03],\n",
       "       [-4.04683325e-01,  6.06420342e-01, -5.56261725e-01,\n",
       "         3.61030366e-01,  1.62871676e-01,  3.82732389e-02,\n",
       "         1.18608735e-02,  1.94540746e-02,  1.28608131e-02,\n",
       "         5.91167469e-03],\n",
       "       [-4.36505671e-01,  6.33416922e-01, -5.45239137e-01,\n",
       "         3.12854277e-01,  1.03852871e-01, -7.17436891e-03,\n",
       "         3.59991308e-02,  2.75040723e-02,  1.32041468e-02,\n",
       "         4.25347828e-03],\n",
       "       [-4.68358644e-01,  6.56283805e-01, -5.25453509e-01,\n",
       "         2.57148409e-01,  4.42630340e-02, -4.63741432e-02,\n",
       "         5.15881492e-02,  2.88324366e-02,  9.97620878e-03,\n",
       "         1.40095991e-03],\n",
       "       [-5.00002492e-01,  6.74440558e-01, -4.96772551e-01,\n",
       "         1.95255672e-01, -1.34702942e-02, -7.74416239e-02,\n",
       "         5.83939957e-02,  2.45648649e-02,  4.65250351e-03,\n",
       "        -1.56472302e-03],\n",
       "       [-5.31203638e-01,  6.87370550e-01, -4.59302838e-01,\n",
       "         1.28839756e-01, -6.68958793e-02, -9.89621743e-02,\n",
       "         5.68548478e-02,  1.62483045e-02, -1.28916054e-03,\n",
       "        -3.81981868e-03],\n",
       "       [-5.61738500e-01,  6.94633097e-01, -4.13398172e-01,\n",
       "         5.98323676e-02, -1.13675948e-01, -1.10109478e-01,\n",
       "         4.80514961e-02,  5.68255172e-03, -6.54437314e-03,\n",
       "        -4.87512551e-03],\n",
       "       [-5.91396610e-01,  6.95873230e-01, -3.59659267e-01,\n",
       "        -9.63558728e-03, -1.51724842e-01, -1.10725080e-01,\n",
       "         3.36174276e-02, -5.27614956e-03, -1.01292153e-02,\n",
       "        -4.59731938e-03],\n",
       "       [-6.19982974e-01,  6.90828921e-01, -2.98924706e-01,\n",
       "        -7.73159692e-02, -1.79339895e-01, -1.01350028e-01,\n",
       "         1.55946002e-02, -1.49172850e-02, -1.14791311e-02,\n",
       "        -3.17379886e-03],\n",
       "       [-6.47319658e-01,  6.79335715e-01, -2.32253499e-01,\n",
       "        -1.40934787e-01, -1.95315283e-01, -8.32033576e-02,\n",
       "        -3.75290171e-03, -2.18602269e-02, -1.04865480e-02,\n",
       "        -1.02953869e-03],\n",
       "       [-6.73246647e-01,  6.61328824e-01, -1.60899941e-01,\n",
       "        -1.98288628e-01, -1.99030373e-01, -5.81065682e-02,\n",
       "        -2.21500569e-02, -2.51980176e-02, -7.47293390e-03,\n",
       "         1.28781168e-03],\n",
       "       [-6.97622041e-01,  6.36842877e-01, -8.62817436e-02,\n",
       "        -2.47341407e-01, -1.90505495e-01, -2.83579991e-02,\n",
       "        -3.75262391e-02, -2.45828558e-02, -3.10056259e-03,\n",
       "         3.23339863e-03],\n",
       "       [-7.20321689e-01,  6.06009558e-01, -9.94268357e-03,\n",
       "        -2.86316597e-01, -1.70420104e-01,  3.43441748e-03,\n",
       "        -4.82127072e-02, -2.02423206e-02,  1.76176320e-03,\n",
       "         4.37878918e-03],\n",
       "       [-7.41238377e-01,  5.69053452e-01,  6.64888813e-02,\n",
       "        -3.13780290e-01, -1.40090712e-01,  3.45494894e-02,\n",
       "        -5.31013900e-02, -1.29240208e-02,  6.19784620e-03,\n",
       "         4.49409078e-03],\n",
       "       [-7.60280691e-01,  5.26286413e-01,  1.41344146e-01,\n",
       "        -3.28710862e-01, -1.01408700e-01,  6.23626195e-02,\n",
       "        -5.17476060e-02, -3.77557612e-03,  9.40316800e-03,\n",
       "         3.58517433e-03],\n",
       "       [-7.77371680e-01,  4.78100780e-01,  2.12959180e-01,\n",
       "        -3.30551669e-01, -5.67408889e-02,  8.45518944e-02,\n",
       "        -4.44049416e-02,  5.82461442e-03,  1.08191252e-02,\n",
       "         1.88125215e-03],\n",
       "       [-7.92447418e-01,  4.24961759e-01,  2.79719988e-01,\n",
       "        -3.19244045e-01, -8.79835258e-03,  9.92829252e-02,\n",
       "        -3.19875930e-02,  1.44636978e-02,  1.02217253e-02,\n",
       "        -2.22521827e-04],\n",
       "       [-8.05455567e-01,  3.67399230e-01,  3.40105990e-01,\n",
       "        -2.95238837e-01,  3.95187277e-02,  1.05356355e-01,\n",
       "        -1.59632911e-02,  2.08918535e-02,  7.75145115e-03,\n",
       "        -2.25434815e-03],\n",
       "       [-8.16354015e-01,  3.05999210e-01,  3.92730677e-01,\n",
       "        -2.59485742e-01,  8.52906394e-02,  1.02304847e-01,\n",
       "         1.81240953e-03,  2.41946572e-02,  3.88059464e-03,\n",
       "        -3.76807723e-03],\n",
       "       [-8.25109641e-01,  2.41395146e-01,  4.36378396e-01,\n",
       "        -2.13400770e-01,  1.25751467e-01,  9.04305177e-02,\n",
       "         1.93030848e-02,  2.39172633e-02, -6.75425234e-04,\n",
       "        -4.43750400e-03],\n",
       "       [-8.31697252e-01,  1.74259171e-01,  4.70036339e-01,\n",
       "        -1.58813207e-01,  1.58455106e-01,  7.07788462e-02,\n",
       "         3.45174732e-02,  2.01237763e-02, -5.08707522e-03,\n",
       "        -4.12366773e-03],\n",
       "       [-8.36098723e-01,  1.05293381e-01,  4.92921006e-01,\n",
       "        -9.78943587e-02,  1.81423264e-01,  4.50505796e-02,\n",
       "         4.57300664e-02,  1.33839590e-02, -8.55778609e-03,\n",
       "        -2.90187723e-03],\n",
       "       [-8.38302333e-01,  3.52211978e-02,  5.04498544e-01,\n",
       "        -3.30712059e-02,  1.93265841e-01,  1.54585784e-02,\n",
       "         5.16721291e-02,  4.68935879e-03, -1.04639427e-02,\n",
       "        -1.04346957e-03],\n",
       "       [-8.38302333e-01, -3.52211978e-02,  5.04498544e-01,\n",
       "         3.30712059e-02,  1.93265841e-01, -1.54585784e-02,\n",
       "         5.16721291e-02, -4.68935879e-03, -1.04639427e-02,\n",
       "         1.04346957e-03],\n",
       "       [-8.36098723e-01, -1.05293381e-01,  4.92921006e-01,\n",
       "         9.78943587e-02,  1.81423264e-01, -4.50505796e-02,\n",
       "         4.57300664e-02, -1.33839590e-02, -8.55778609e-03,\n",
       "         2.90187723e-03],\n",
       "       [-8.31697252e-01, -1.74259171e-01,  4.70036339e-01,\n",
       "         1.58813207e-01,  1.58455106e-01, -7.07788462e-02,\n",
       "         3.45174732e-02, -2.01237763e-02, -5.08707522e-03,\n",
       "         4.12366773e-03],\n",
       "       [-8.25109641e-01, -2.41395146e-01,  4.36378396e-01,\n",
       "         2.13400770e-01,  1.25751467e-01, -9.04305177e-02,\n",
       "         1.93030848e-02, -2.39172633e-02, -6.75425234e-04,\n",
       "         4.43750400e-03],\n",
       "       [-8.16354015e-01, -3.05999210e-01,  3.92730677e-01,\n",
       "         2.59485742e-01,  8.52906394e-02, -1.02304847e-01,\n",
       "         1.81240953e-03, -2.41946572e-02,  3.88059464e-03,\n",
       "         3.76807723e-03],\n",
       "       [-8.05455567e-01, -3.67399230e-01,  3.40105990e-01,\n",
       "         2.95238837e-01,  3.95187277e-02, -1.05356355e-01,\n",
       "        -1.59632911e-02, -2.08918535e-02,  7.75145115e-03,\n",
       "         2.25434815e-03],\n",
       "       [-7.92447418e-01, -4.24961759e-01,  2.79719988e-01,\n",
       "         3.19244045e-01, -8.79835258e-03, -9.92829252e-02,\n",
       "        -3.19875930e-02, -1.44636978e-02,  1.02217253e-02,\n",
       "         2.22521827e-04],\n",
       "       [-7.77371680e-01, -4.78100780e-01,  2.12959180e-01,\n",
       "         3.30551669e-01, -5.67408889e-02, -8.45518944e-02,\n",
       "        -4.44049416e-02, -5.82461442e-03,  1.08191252e-02,\n",
       "        -1.88125215e-03],\n",
       "       [-7.60280691e-01, -5.26286413e-01,  1.41344146e-01,\n",
       "         3.28710862e-01, -1.01408700e-01, -6.23626195e-02,\n",
       "        -5.17476060e-02,  3.77557612e-03,  9.40316800e-03,\n",
       "        -3.58517433e-03],\n",
       "       [-7.41238377e-01, -5.69053452e-01,  6.64888813e-02,\n",
       "         3.13780290e-01, -1.40090712e-01, -3.45494894e-02,\n",
       "        -5.31013900e-02,  1.29240208e-02,  6.19784620e-03,\n",
       "        -4.49409078e-03],\n",
       "       [-7.20321689e-01, -6.06009558e-01, -9.94268357e-03,\n",
       "         2.86316597e-01, -1.70420104e-01, -3.43441748e-03,\n",
       "        -4.82127072e-02,  2.02423206e-02,  1.76176320e-03,\n",
       "        -4.37878918e-03],\n",
       "       [-6.97622041e-01, -6.36842877e-01, -8.62817436e-02,\n",
       "         2.47341407e-01, -1.90505495e-01,  2.83579991e-02,\n",
       "        -3.75262391e-02,  2.45828558e-02, -3.10056259e-03,\n",
       "        -3.23339863e-03],\n",
       "       [-6.73246647e-01, -6.61328824e-01, -1.60899941e-01,\n",
       "         1.98288628e-01, -1.99030373e-01,  5.81065682e-02,\n",
       "        -2.21500569e-02,  2.51980176e-02, -7.47293390e-03,\n",
       "        -1.28781168e-03],\n",
       "       [-6.47319658e-01, -6.79335715e-01, -2.32253499e-01,\n",
       "         1.40934787e-01, -1.95315283e-01,  8.32033576e-02,\n",
       "        -3.75290171e-03,  2.18602269e-02, -1.04865480e-02,\n",
       "         1.02953869e-03],\n",
       "       [-6.19982974e-01, -6.90828921e-01, -2.98924706e-01,\n",
       "         7.73159692e-02, -1.79339895e-01,  1.01350028e-01,\n",
       "         1.55946002e-02,  1.49172850e-02, -1.14791311e-02,\n",
       "         3.17379886e-03],\n",
       "       [-5.91396610e-01, -6.95873230e-01, -3.59659267e-01,\n",
       "         9.63558728e-03, -1.51724842e-01,  1.10725080e-01,\n",
       "         3.36174276e-02,  5.27614956e-03, -1.01292153e-02,\n",
       "         4.59731938e-03],\n",
       "       [-5.61738500e-01, -6.94633097e-01, -4.13398172e-01,\n",
       "        -5.98323676e-02, -1.13675948e-01,  1.10109478e-01,\n",
       "         4.80514961e-02, -5.68255172e-03, -6.54437314e-03,\n",
       "         4.87512551e-03],\n",
       "       [-5.31203638e-01, -6.87370550e-01, -4.59302838e-01,\n",
       "        -1.28839756e-01, -6.68958793e-02,  9.89621743e-02,\n",
       "         5.68548478e-02, -1.62483045e-02, -1.28916054e-03,\n",
       "         3.81981868e-03],\n",
       "       [-5.00002492e-01, -6.74440558e-01, -4.96772551e-01,\n",
       "        -1.95255672e-01, -1.34702942e-02,  7.74416239e-02,\n",
       "         5.83939957e-02, -2.45648649e-02,  4.65250351e-03,\n",
       "         1.56472302e-03],\n",
       "       [-4.68358644e-01, -6.56283805e-01, -5.25453509e-01,\n",
       "        -2.57148409e-01,  4.42630340e-02,  4.63741432e-02,\n",
       "         5.15881492e-02, -2.88324366e-02,  9.97620878e-03,\n",
       "        -1.40095991e-03],\n",
       "       [-4.36505671e-01, -6.33416922e-01, -5.45239137e-01,\n",
       "        -3.12854277e-01,  1.03852871e-01,  7.17436891e-03,\n",
       "         3.59991308e-02, -2.75040723e-02,  1.32041468e-02,\n",
       "        -4.25347828e-03],\n",
       "       [-4.04683325e-01, -6.06420342e-01, -5.56261725e-01,\n",
       "        -3.61030366e-01,  1.62871676e-01, -3.82732389e-02,\n",
       "         1.18608735e-02, -1.94540746e-02,  1.28608131e-02,\n",
       "        -5.91167469e-03],\n",
       "       [-3.73133121e-01, -5.75924127e-01, -5.58875853e-01,\n",
       "        -4.00689365e-01,  2.19042609e-01, -8.77602142e-02,\n",
       "        -1.99512575e-02, -4.10039460e-03,  7.65414287e-03,\n",
       "        -5.16031055e-03],\n",
       "       [-3.42093490e-01, -5.42592201e-01, -5.53634465e-01,\n",
       "        -4.31215619e-01,  2.70348978e-01, -1.38914118e-01,\n",
       "        -5.80051644e-02,  1.85308058e-02, -3.36127252e-03,\n",
       "        -8.02634265e-04],\n",
       "       [-3.11794683e-01, -5.07105551e-01, -5.41258795e-01,\n",
       "        -4.52362719e-01,  3.15120443e-01, -1.89359461e-01,\n",
       "        -1.00439730e-01,  4.78030497e-02, -2.06591729e-02,\n",
       "         8.17922202e-03]])"
      ]
     },
     "execution_count": 114,
     "metadata": {},
     "output_type": "execute_result"
    }
   ],
   "source": [
    "X_matrix[:,:10]\n"
   ]
  },
  {
   "cell_type": "code",
   "execution_count": 115,
   "metadata": {},
   "outputs": [
    {
     "data": {
      "text/plain": [
       "<matplotlib.image.AxesImage at 0x1c1d744e90>"
      ]
     },
     "execution_count": 115,
     "metadata": {},
     "output_type": "execute_result"
    },
    {
     "data": {
      "image/png": "[encoded data removed]",
      "text/plain": [
       "<Figure size 432x288 with 1 Axes>"
      ]
     },
     "metadata": {
      "needs_background": "light"
     },
     "output_type": "display_data"
    }
   ],
   "source": [
    "plt.imshow(X_matrix)"
   ]
  },
  {
   "cell_type": "code",
   "execution_count": 116,
   "metadata": {},
   "outputs": [],
   "source": [
    "K = np.dot(X_matrix, np.transpose(X_matrix))"
   ]
  },
  {
   "cell_type": "code",
   "execution_count": 117,
   "metadata": {},
   "outputs": [
    {
     "data": {
      "text/plain": [
       "<matplotlib.image.AxesImage at 0x1c1d0af110>"
      ]
     },
     "execution_count": 117,
     "metadata": {},
     "output_type": "execute_result"
    },
    {
     "data": {
      "image/png": "[encoded data removed]",
      "text/plain": [
       "<Figure size 432x288 with 1 Axes>"
      ]
     },
     "metadata": {
      "needs_background": "light"
     },
     "output_type": "display_data"
    }
   ],
   "source": [
    "plt.imshow(K)"
   ]
  },
  {
   "cell_type": "code",
   "execution_count": 118,
   "metadata": {},
   "outputs": [
    {
     "data": {
      "text/plain": [
       "<matplotlib.image.AxesImage at 0x1c1d9575d0>"
      ]
     },
     "execution_count": 118,
     "metadata": {},
     "output_type": "execute_result"
    },
    {
     "data": {
      "image/png": "[encoded data removed]",
      "text/plain": [
       "<Figure size 432x288 with 1 Axes>"
      ]
     },
     "metadata": {
      "needs_background": "light"
     },
     "output_type": "display_data"
    }
   ],
   "source": [
    "plt.imshow(np.diag(D_matrix))"
   ]
  },
  {
   "cell_type": "code",
   "execution_count": 119,
   "metadata": {},
   "outputs": [
    {
     "data": {
      "text/plain": [
       "<matplotlib.image.AxesImage at 0x1c1d920690>"
      ]
     },
     "execution_count": 119,
     "metadata": {},
     "output_type": "execute_result"
    },
    {
     "data": {
      "image/png": "[encoded data removed]",
      "text/plain": [
       "<Figure size 432x288 with 1 Axes>"
      ]
     },
     "metadata": {
      "needs_background": "light"
     },
     "output_type": "display_data"
    }
   ],
   "source": [
    "plt.imshow(D_matrix_mod)"
   ]
  },
  {
   "cell_type": "code",
   "execution_count": 121,
   "metadata": {},
   "outputs": [
    {
     "data": {
      "text/plain": [
       "array([ 2.16721832e+01,  1.49309876e+01,  8.11221370e+00,  3.53163058e+00,\n",
       "        1.25745847e+00,  3.74391341e-01,  9.51734849e-02,  2.10258714e-02,\n",
       "        4.09515260e-03,  7.11324483e-04,  1.11225247e-04,  1.57763584e-05,\n",
       "        2.04286079e-06,  2.42775216e-07,  2.65972025e-08,  2.69622903e-09,\n",
       "        2.53705119e-10,  2.22171888e-11,  1.81468900e-12,  1.38554551e-13,\n",
       "        9.84662002e-15,  7.07019656e-16,  4.39565993e-16, -3.09201194e-16,\n",
       "       -3.09201194e-16,  2.86142418e-16,  2.63426165e-16,  1.94115656e-16,\n",
       "        1.94115656e-16,  1.67835433e-16,  1.67835433e-16, -2.77897423e-16,\n",
       "       -2.57043998e-16, -2.57043998e-16,  7.26014442e-18,  7.26014442e-18,\n",
       "       -2.46978272e-17, -2.46978272e-17, -1.65895539e-16, -1.65895539e-16,\n",
       "       -9.41404407e-17, -9.41404407e-17,  9.54050258e-17,  9.54050258e-17,\n",
       "        7.27356631e-17,  3.01896134e-17, -1.05180027e-16, -1.05180027e-16,\n",
       "       -3.95033150e-17, -3.95033150e-17])"
      ]
     },
     "execution_count": 121,
     "metadata": {},
     "output_type": "execute_result"
    }
   ],
   "source": [
    "D_matrix"
   ]
  },
  {
   "cell_type": "code",
   "execution_count": 8,
   "metadata": {},
   "outputs": [
    {
     "data": {
      "text/html": [
       "<div>\n",
       "<style scoped>\n",
       "    .dataframe tbody tr th:only-of-type {\n",
       "        vertical-align: middle;\n",
       "    }\n",
       "\n",
       "    .dataframe tbody tr th {\n",
       "        vertical-align: top;\n",
       "    }\n",
       "\n",
       "    .dataframe thead th {\n",
       "        text-align: right;\n",
       "    }\n",
       "</style>\n",
       "<table border=\"1\" class=\"dataframe\">\n",
       "  <thead>\n",
       "    <tr style=\"text-align: right;\">\n",
       "      <th></th>\n",
       "      <th>alcohol</th>\n",
       "      <th>nomeds</th>\n",
       "      <th>nsneeze</th>\n",
       "    </tr>\n",
       "  </thead>\n",
       "  <tbody>\n",
       "    <tr>\n",
       "      <th>3995</th>\n",
       "      <td>True</td>\n",
       "      <td>True</td>\n",
       "      <td>33</td>\n",
       "    </tr>\n",
       "    <tr>\n",
       "      <th>3996</th>\n",
       "      <td>True</td>\n",
       "      <td>True</td>\n",
       "      <td>30</td>\n",
       "    </tr>\n",
       "    <tr>\n",
       "      <th>3997</th>\n",
       "      <td>True</td>\n",
       "      <td>True</td>\n",
       "      <td>29</td>\n",
       "    </tr>\n",
       "    <tr>\n",
       "      <th>3998</th>\n",
       "      <td>True</td>\n",
       "      <td>True</td>\n",
       "      <td>22</td>\n",
       "    </tr>\n",
       "    <tr>\n",
       "      <th>3999</th>\n",
       "      <td>True</td>\n",
       "      <td>True</td>\n",
       "      <td>37</td>\n",
       "    </tr>\n",
       "  </tbody>\n",
       "</table>\n",
       "</div>"
      ],
      "text/plain": [
       "      alcohol  nomeds  nsneeze\n",
       "3995     True    True       33\n",
       "3996     True    True       30\n",
       "3997     True    True       29\n",
       "3998     True    True       22\n",
       "3999     True    True       37"
      ]
     },
     "execution_count": 8,
     "metadata": {},
     "output_type": "execute_result"
    }
   ],
   "source": [
    "df.tail()"
   ]
  },
  {
   "cell_type": "code",
   "execution_count": 15,
   "metadata": {},
   "outputs": [],
   "source": [
    "fml = 'nsneeze ~ alcohol * nomeds'"
   ]
  },
  {
   "cell_type": "code",
   "execution_count": 16,
   "metadata": {},
   "outputs": [],
   "source": [
    "(mx_en, mx_ex) = pt.dmatrices(fml, df, return_type='dataframe', NA_action='raise')"
   ]
  },
  {
   "cell_type": "code",
   "execution_count": 18,
   "metadata": {},
   "outputs": [
    {
     "data": {
      "text/html": [
       "<div>\n",
       "<style scoped>\n",
       "    .dataframe tbody tr th:only-of-type {\n",
       "        vertical-align: middle;\n",
       "    }\n",
       "\n",
       "    .dataframe tbody tr th {\n",
       "        vertical-align: top;\n",
       "    }\n",
       "\n",
       "    .dataframe thead th {\n",
       "        text-align: right;\n",
       "    }\n",
       "</style>\n",
       "<table border=\"1\" class=\"dataframe\">\n",
       "  <thead>\n",
       "    <tr style=\"text-align: right;\">\n",
       "      <th></th>\n",
       "      <th>nsneeze</th>\n",
       "    </tr>\n",
       "  </thead>\n",
       "  <tbody>\n",
       "    <tr>\n",
       "      <th>3995</th>\n",
       "      <td>33.0</td>\n",
       "    </tr>\n",
       "    <tr>\n",
       "      <th>3996</th>\n",
       "      <td>30.0</td>\n",
       "    </tr>\n",
       "    <tr>\n",
       "      <th>3997</th>\n",
       "      <td>29.0</td>\n",
       "    </tr>\n",
       "    <tr>\n",
       "      <th>3998</th>\n",
       "      <td>22.0</td>\n",
       "    </tr>\n",
       "    <tr>\n",
       "      <th>3999</th>\n",
       "      <td>37.0</td>\n",
       "    </tr>\n",
       "  </tbody>\n",
       "</table>\n",
       "</div>"
      ],
      "text/plain": [
       "      nsneeze\n",
       "3995     33.0\n",
       "3996     30.0\n",
       "3997     29.0\n",
       "3998     22.0\n",
       "3999     37.0"
      ]
     },
     "execution_count": 18,
     "metadata": {},
     "output_type": "execute_result"
    }
   ],
   "source": [
    "mx_en.tail()"
   ]
  },
  {
   "cell_type": "code",
   "execution_count": 19,
   "metadata": {},
   "outputs": [
    {
     "data": {
      "text/html": [
       "<div>\n",
       "<style scoped>\n",
       "    .dataframe tbody tr th:only-of-type {\n",
       "        vertical-align: middle;\n",
       "    }\n",
       "\n",
       "    .dataframe tbody tr th {\n",
       "        vertical-align: top;\n",
       "    }\n",
       "\n",
       "    .dataframe thead th {\n",
       "        text-align: right;\n",
       "    }\n",
       "</style>\n",
       "<table border=\"1\" class=\"dataframe\">\n",
       "  <thead>\n",
       "    <tr style=\"text-align: right;\">\n",
       "      <th></th>\n",
       "      <th>Intercept</th>\n",
       "      <th>alcohol[T.True]</th>\n",
       "      <th>nomeds[T.True]</th>\n",
       "      <th>alcohol[T.True]:nomeds[T.True]</th>\n",
       "    </tr>\n",
       "  </thead>\n",
       "  <tbody>\n",
       "    <tr>\n",
       "      <th>3995</th>\n",
       "      <td>1.0</td>\n",
       "      <td>1.0</td>\n",
       "      <td>1.0</td>\n",
       "      <td>1.0</td>\n",
       "    </tr>\n",
       "    <tr>\n",
       "      <th>3996</th>\n",
       "      <td>1.0</td>\n",
       "      <td>1.0</td>\n",
       "      <td>1.0</td>\n",
       "      <td>1.0</td>\n",
       "    </tr>\n",
       "    <tr>\n",
       "      <th>3997</th>\n",
       "      <td>1.0</td>\n",
       "      <td>1.0</td>\n",
       "      <td>1.0</td>\n",
       "      <td>1.0</td>\n",
       "    </tr>\n",
       "    <tr>\n",
       "      <th>3998</th>\n",
       "      <td>1.0</td>\n",
       "      <td>1.0</td>\n",
       "      <td>1.0</td>\n",
       "      <td>1.0</td>\n",
       "    </tr>\n",
       "    <tr>\n",
       "      <th>3999</th>\n",
       "      <td>1.0</td>\n",
       "      <td>1.0</td>\n",
       "      <td>1.0</td>\n",
       "      <td>1.0</td>\n",
       "    </tr>\n",
       "  </tbody>\n",
       "</table>\n",
       "</div>"
      ],
      "text/plain": [
       "      Intercept  alcohol[T.True]  nomeds[T.True]  \\\n",
       "3995        1.0              1.0             1.0   \n",
       "3996        1.0              1.0             1.0   \n",
       "3997        1.0              1.0             1.0   \n",
       "3998        1.0              1.0             1.0   \n",
       "3999        1.0              1.0             1.0   \n",
       "\n",
       "      alcohol[T.True]:nomeds[T.True]  \n",
       "3995                             1.0  \n",
       "3996                             1.0  \n",
       "3997                             1.0  \n",
       "3998                             1.0  \n",
       "3999                             1.0  "
      ]
     },
     "execution_count": 19,
     "metadata": {},
     "output_type": "execute_result"
    }
   ],
   "source": [
    "mx_ex.tail()"
   ]
  },
  {
   "cell_type": "code",
   "execution_count": 20,
   "metadata": {},
   "outputs": [
    {
     "data": {
      "text/html": [
       "<div>\n",
       "<style scoped>\n",
       "    .dataframe tbody tr th:only-of-type {\n",
       "        vertical-align: middle;\n",
       "    }\n",
       "\n",
       "    .dataframe tbody tr th {\n",
       "        vertical-align: top;\n",
       "    }\n",
       "\n",
       "    .dataframe thead th {\n",
       "        text-align: right;\n",
       "    }\n",
       "</style>\n",
       "<table border=\"1\" class=\"dataframe\">\n",
       "  <thead>\n",
       "    <tr style=\"text-align: right;\">\n",
       "      <th></th>\n",
       "      <th>Intercept</th>\n",
       "      <th>alcohol[T.True]</th>\n",
       "      <th>nomeds[T.True]</th>\n",
       "      <th>alcohol[T.True]:nomeds[T.True]</th>\n",
       "    </tr>\n",
       "  </thead>\n",
       "  <tbody>\n",
       "    <tr>\n",
       "      <th>0</th>\n",
       "      <td>1.0</td>\n",
       "      <td>0.0</td>\n",
       "      <td>0.0</td>\n",
       "      <td>0.0</td>\n",
       "    </tr>\n",
       "    <tr>\n",
       "      <th>1</th>\n",
       "      <td>1.0</td>\n",
       "      <td>0.0</td>\n",
       "      <td>0.0</td>\n",
       "      <td>0.0</td>\n",
       "    </tr>\n",
       "    <tr>\n",
       "      <th>2</th>\n",
       "      <td>1.0</td>\n",
       "      <td>0.0</td>\n",
       "      <td>0.0</td>\n",
       "      <td>0.0</td>\n",
       "    </tr>\n",
       "    <tr>\n",
       "      <th>3997</th>\n",
       "      <td>1.0</td>\n",
       "      <td>1.0</td>\n",
       "      <td>1.0</td>\n",
       "      <td>1.0</td>\n",
       "    </tr>\n",
       "    <tr>\n",
       "      <th>3998</th>\n",
       "      <td>1.0</td>\n",
       "      <td>1.0</td>\n",
       "      <td>1.0</td>\n",
       "      <td>1.0</td>\n",
       "    </tr>\n",
       "    <tr>\n",
       "      <th>3999</th>\n",
       "      <td>1.0</td>\n",
       "      <td>1.0</td>\n",
       "      <td>1.0</td>\n",
       "      <td>1.0</td>\n",
       "    </tr>\n",
       "  </tbody>\n",
       "</table>\n",
       "</div>"
      ],
      "text/plain": [
       "      Intercept  alcohol[T.True]  nomeds[T.True]  \\\n",
       "0           1.0              0.0             0.0   \n",
       "1           1.0              0.0             0.0   \n",
       "2           1.0              0.0             0.0   \n",
       "3997        1.0              1.0             1.0   \n",
       "3998        1.0              1.0             1.0   \n",
       "3999        1.0              1.0             1.0   \n",
       "\n",
       "      alcohol[T.True]:nomeds[T.True]  \n",
       "0                                0.0  \n",
       "1                                0.0  \n",
       "2                                0.0  \n",
       "3997                             1.0  \n",
       "3998                             1.0  \n",
       "3999                             1.0  "
      ]
     },
     "execution_count": 20,
     "metadata": {},
     "output_type": "execute_result"
    }
   ],
   "source": [
    "pd.concat((mx_ex.head(3),mx_ex.tail(3)))"
   ]
  },
  {
   "cell_type": "code",
   "execution_count": 21,
   "metadata": {},
   "outputs": [],
   "source": [
    "with pm.Model() as mdl_fish:\n",
    "\n",
    "    # define priors, weakly informative Normal\n",
    "    b0 = pm.Normal('b0_intercept', mu=0, sd=10)\n",
    "    b1 = pm.Normal('b1_alcohol[T.True]', mu=0, sd=10)\n",
    "    b2 = pm.Normal('b2_nomeds[T.True]', mu=0, sd=10)\n",
    "    b3 = pm.Normal('b3_alcohol[T.True]:nomeds[T.True]', mu=0, sd=10)\n",
    "\n",
    "    # define linear model and exp link function\n",
    "    theta = (b0 +\n",
    "            b1 * mx_ex['alcohol[T.True]'] +\n",
    "            b2 * mx_ex['nomeds[T.True]'] +\n",
    "            b3 * mx_ex['alcohol[T.True]:nomeds[T.True]'])\n",
    "\n",
    "    ## Define Poisson likelihood\n",
    "    y = pm.Poisson('y', mu=np.exp(theta), observed=mx_en['nsneeze'].values)"
   ]
  },
  {
   "cell_type": "code",
   "execution_count": 23,
   "metadata": {},
   "outputs": [
    {
     "name": "stderr",
     "output_type": "stream",
     "text": [
      "Auto-assigning NUTS sampler...\n",
      "Initializing NUTS using jitter+adapt_diag...\n",
      "Multiprocess sampling (4 chains in 4 jobs)\n",
      "NUTS: [b3_alcohol[T.True]:nomeds[T.True], b2_nomeds[T.True], b1_alcohol[T.True], b0_intercept]\n",
      "/anaconda2/lib/python2.7/site-packages/mkl_fft/_numpy_fft.py:1044: FutureWarning: Using a non-tuple sequence for multidimensional indexing is deprecated; use `arr[tuple(seq)]` instead of `arr[seq]`. In the future this will be interpreted as an array index, `arr[np.array(seq)]`, which will result either in an error or a different result.\n",
      "  output = mkl_fft.rfftn_numpy(a, s, axes)\n",
      "The number of effective samples is smaller than 25% for some parameters.\n"
     ]
    }
   ],
   "source": [
    "with mdl_fish:\n",
    "    trc_fish = pm.sample(1000, tune=1000, cores=4)"
   ]
  },
  {
   "cell_type": "code",
   "execution_count": 24,
   "metadata": {},
   "outputs": [
    {
     "data": {
      "image/png": "[encoded data removed]",
      "text/plain": [
       "<Figure size 864x403.2 with 8 Axes>"
      ]
     },
     "metadata": {},
     "output_type": "display_data"
    }
   ],
   "source": [
    "rvs_fish = [rv.name for rv in strip_derived_rvs(mdl_fish.unobserved_RVs)]\n",
    "plot_traces_pymc(trc_fish, varnames=rvs_fish)"
   ]
  },
  {
   "cell_type": "code",
   "execution_count": 25,
   "metadata": {},
   "outputs": [
    {
     "data": {
      "text/html": [
       "<div>\n",
       "<style scoped>\n",
       "    .dataframe tbody tr th:only-of-type {\n",
       "        vertical-align: middle;\n",
       "    }\n",
       "\n",
       "    .dataframe tbody tr th {\n",
       "        vertical-align: top;\n",
       "    }\n",
       "\n",
       "    .dataframe thead th {\n",
       "        text-align: right;\n",
       "    }\n",
       "</style>\n",
       "<table border=\"1\" class=\"dataframe\">\n",
       "  <thead>\n",
       "    <tr style=\"text-align: right;\">\n",
       "      <th></th>\n",
       "      <th>mean</th>\n",
       "      <th>hpd_2.5</th>\n",
       "      <th>hpd_97.5</th>\n",
       "    </tr>\n",
       "  </thead>\n",
       "  <tbody>\n",
       "    <tr>\n",
       "      <th>b0_intercept</th>\n",
       "      <td>1.034346</td>\n",
       "      <td>0.974043</td>\n",
       "      <td>1.099119</td>\n",
       "    </tr>\n",
       "    <tr>\n",
       "      <th>b1_alcohol[T.True]</th>\n",
       "      <td>2.933869</td>\n",
       "      <td>2.733884</td>\n",
       "      <td>3.142050</td>\n",
       "    </tr>\n",
       "    <tr>\n",
       "      <th>b2_nomeds[T.True]</th>\n",
       "      <td>5.910626</td>\n",
       "      <td>5.563299</td>\n",
       "      <td>6.342739</td>\n",
       "    </tr>\n",
       "    <tr>\n",
       "      <th>b3_alcohol[T.True]:nomeds[T.True]</th>\n",
       "      <td>2.021321</td>\n",
       "      <td>1.875674</td>\n",
       "      <td>2.174342</td>\n",
       "    </tr>\n",
       "  </tbody>\n",
       "</table>\n",
       "</div>"
      ],
      "text/plain": [
       "                                       mean   hpd_2.5  hpd_97.5\n",
       "b0_intercept                       1.034346  0.974043  1.099119\n",
       "b1_alcohol[T.True]                 2.933869  2.733884  3.142050\n",
       "b2_nomeds[T.True]                  5.910626  5.563299  6.342739\n",
       "b3_alcohol[T.True]:nomeds[T.True]  2.021321  1.875674  2.174342"
      ]
     },
     "execution_count": 25,
     "metadata": {},
     "output_type": "execute_result"
    }
   ],
   "source": [
    "np.exp(pm.summary(trc_fish, varnames=rvs_fish)[['mean','hpd_2.5','hpd_97.5']])"
   ]
  },
  {
   "cell_type": "code",
   "execution_count": 31,
   "metadata": {},
   "outputs": [
    {
     "data": {
      "text/html": [
       "<div>\n",
       "<style scoped>\n",
       "    .dataframe tbody tr th:only-of-type {\n",
       "        vertical-align: middle;\n",
       "    }\n",
       "\n",
       "    .dataframe tbody tr th {\n",
       "        vertical-align: top;\n",
       "    }\n",
       "\n",
       "    .dataframe thead th {\n",
       "        text-align: right;\n",
       "    }\n",
       "</style>\n",
       "<table border=\"1\" class=\"dataframe\">\n",
       "  <thead>\n",
       "    <tr style=\"text-align: right;\">\n",
       "      <th></th>\n",
       "      <th>mean</th>\n",
       "      <th>sd</th>\n",
       "      <th>mc_error</th>\n",
       "      <th>hpd_2.5</th>\n",
       "      <th>hpd_97.5</th>\n",
       "      <th>n_eff</th>\n",
       "      <th>Rhat</th>\n",
       "    </tr>\n",
       "  </thead>\n",
       "  <tbody>\n",
       "    <tr>\n",
       "      <th>b0_intercept</th>\n",
       "      <td>0.033769</td>\n",
       "      <td>0.030927</td>\n",
       "      <td>0.001054</td>\n",
       "      <td>-0.026299</td>\n",
       "      <td>0.094509</td>\n",
       "      <td>805.240440</td>\n",
       "      <td>1.000623</td>\n",
       "    </tr>\n",
       "    <tr>\n",
       "      <th>b1_alcohol[T.True]</th>\n",
       "      <td>1.076322</td>\n",
       "      <td>0.035458</td>\n",
       "      <td>0.001232</td>\n",
       "      <td>1.005723</td>\n",
       "      <td>1.144876</td>\n",
       "      <td>767.145893</td>\n",
       "      <td>1.000220</td>\n",
       "    </tr>\n",
       "    <tr>\n",
       "      <th>b2_nomeds[T.True]</th>\n",
       "      <td>1.776752</td>\n",
       "      <td>0.033516</td>\n",
       "      <td>0.001143</td>\n",
       "      <td>1.716191</td>\n",
       "      <td>1.847311</td>\n",
       "      <td>834.978834</td>\n",
       "      <td>1.000006</td>\n",
       "    </tr>\n",
       "    <tr>\n",
       "      <th>b3_alcohol[T.True]:nomeds[T.True]</th>\n",
       "      <td>0.703751</td>\n",
       "      <td>0.038051</td>\n",
       "      <td>0.001335</td>\n",
       "      <td>0.628968</td>\n",
       "      <td>0.776726</td>\n",
       "      <td>752.569895</td>\n",
       "      <td>0.999762</td>\n",
       "    </tr>\n",
       "  </tbody>\n",
       "</table>\n",
       "</div>"
      ],
      "text/plain": [
       "                                       mean        sd  mc_error   hpd_2.5  \\\n",
       "b0_intercept                       0.033769  0.030927  0.001054 -0.026299   \n",
       "b1_alcohol[T.True]                 1.076322  0.035458  0.001232  1.005723   \n",
       "b2_nomeds[T.True]                  1.776752  0.033516  0.001143  1.716191   \n",
       "b3_alcohol[T.True]:nomeds[T.True]  0.703751  0.038051  0.001335  0.628968   \n",
       "\n",
       "                                   hpd_97.5       n_eff      Rhat  \n",
       "b0_intercept                       0.094509  805.240440  1.000623  \n",
       "b1_alcohol[T.True]                 1.144876  767.145893  1.000220  \n",
       "b2_nomeds[T.True]                  1.847311  834.978834  1.000006  \n",
       "b3_alcohol[T.True]:nomeds[T.True]  0.776726  752.569895  0.999762  "
      ]
     },
     "execution_count": 31,
     "metadata": {},
     "output_type": "execute_result"
    }
   ],
   "source": [
    "pm.summary(trc_fish)"
   ]
  },
  {
   "cell_type": "code",
   "execution_count": 28,
   "metadata": {},
   "outputs": [
    {
     "data": {
      "text/plain": [
       "['b0_intercept',\n",
       " 'b1_alcohol[T.True]',\n",
       " 'b2_nomeds[T.True]',\n",
       " 'b3_alcohol[T.True]:nomeds[T.True]']"
      ]
     },
     "execution_count": 28,
     "metadata": {},
     "output_type": "execute_result"
    }
   ],
   "source": [
    "rvs_fish"
   ]
  },
  {
   "cell_type": "code",
   "execution_count": 107,
   "metadata": {},
   "outputs": [],
   "source": [
    "def thin_plate_spline_kernel_xpart(x, m = 1, d=1, x_star = None):\n",
    "\tif x_star is None:\n",
    "\t\tSigma = np.zeros((len(x), len(x)))\n",
    "\t\tfor i in range(len(x)):\n",
    "\t\t\tfor j in range(len(x)):\n",
    "\t\t\t\tSigma[i, j] = min(x[i], x[j]) \n",
    "\telse:\n",
    "\t\tSigma = np.zeros((len(x), len(x_star)))\n",
    "\t\tfor i in range(len(x)):\n",
    "\t\t\tfor j in range(len(x_star)):\n",
    "\t\t\t\tSigma[i, j] = min(x[i], x_star[j]) \n",
    "\treturn Sigma\n"
   ]
  },
  {
   "cell_type": "code",
   "execution_count": 115,
   "metadata": {},
   "outputs": [],
   "source": [
    "x = np.linspace(0,1,100)"
   ]
  },
  {
   "cell_type": "code",
   "execution_count": 116,
   "metadata": {},
   "outputs": [
    {
     "data": {
      "text/plain": [
       "array([[0.        , 0.        , 0.        , ..., 0.        , 0.        ,\n",
       "        0.        ],\n",
       "       [0.        , 0.01010101, 0.01010101, ..., 0.01010101, 0.01010101,\n",
       "        0.01010101],\n",
       "       [0.        , 0.01010101, 0.02020202, ..., 0.02020202, 0.02020202,\n",
       "        0.02020202],\n",
       "       ...,\n",
       "       [0.        , 0.01010101, 0.02020202, ..., 0.97979798, 0.97979798,\n",
       "        0.97979798],\n",
       "       [0.        , 0.01010101, 0.02020202, ..., 0.97979798, 0.98989899,\n",
       "        0.98989899],\n",
       "       [0.        , 0.01010101, 0.02020202, ..., 0.97979798, 0.98989899,\n",
       "        1.        ]])"
      ]
     },
     "execution_count": 116,
     "metadata": {},
     "output_type": "execute_result"
    }
   ],
   "source": [
    "thin_plate_spline_kernel_xpart(x)"
   ]
  },
  {
   "cell_type": "code",
   "execution_count": 117,
   "metadata": {},
   "outputs": [
    {
     "data": {
      "text/plain": [
       "array([0.        , 0.01010101, 0.02020202, 0.03030303, 0.04040404,\n",
       "       0.05050505, 0.06060606, 0.07070707, 0.08080808, 0.09090909,\n",
       "       0.1010101 , 0.11111111, 0.12121212, 0.13131313, 0.14141414,\n",
       "       0.15151515, 0.16161616, 0.17171717, 0.18181818, 0.19191919,\n",
       "       0.2020202 , 0.21212121, 0.22222222, 0.23232323, 0.24242424,\n",
       "       0.25252525, 0.26262626, 0.27272727, 0.28282828, 0.29292929,\n",
       "       0.3030303 , 0.31313131, 0.32323232, 0.33333333, 0.34343434,\n",
       "       0.35353535, 0.36363636, 0.37373737, 0.38383838, 0.39393939,\n",
       "       0.4040404 , 0.41414141, 0.42424242, 0.43434343, 0.44444444,\n",
       "       0.45454545, 0.46464646, 0.47474747, 0.48484848, 0.49494949,\n",
       "       0.50505051, 0.51515152, 0.52525253, 0.53535354, 0.54545455,\n",
       "       0.55555556, 0.56565657, 0.57575758, 0.58585859, 0.5959596 ,\n",
       "       0.60606061, 0.61616162, 0.62626263, 0.63636364, 0.64646465,\n",
       "       0.65656566, 0.66666667, 0.67676768, 0.68686869, 0.6969697 ,\n",
       "       0.70707071, 0.71717172, 0.72727273, 0.73737374, 0.74747475,\n",
       "       0.75757576, 0.76767677, 0.77777778, 0.78787879, 0.7979798 ,\n",
       "       0.80808081, 0.81818182, 0.82828283, 0.83838384, 0.84848485,\n",
       "       0.85858586, 0.86868687, 0.87878788, 0.88888889, 0.8989899 ,\n",
       "       0.90909091, 0.91919192, 0.92929293, 0.93939394, 0.94949495,\n",
       "       0.95959596, 0.96969697, 0.97979798, 0.98989899, 1.        ])"
      ]
     },
     "execution_count": 117,
     "metadata": {},
     "output_type": "execute_result"
    }
   ],
   "source": [
    "x"
   ]
  },
  {
   "cell_type": "code",
   "execution_count": 118,
   "metadata": {},
   "outputs": [],
   "source": [
    "function = np.random.multivariate_normal(np.zeros(100), thin_plate_spline_kernel_xpart(x))"
   ]
  },
  {
   "cell_type": "code",
   "execution_count": 119,
   "metadata": {},
   "outputs": [
    {
     "data": {
      "image/png": "[encoded data removed]",
      "text/plain": [
       "<Figure size 432x288 with 1 Axes>"
      ]
     },
     "metadata": {},
     "output_type": "display_data"
    }
   ],
   "source": [
    "plt.plot(function)\n",
    "plt.show()"
   ]
  },
  {
   "cell_type": "code",
   "execution_count": null,
   "metadata": {},
   "outputs": [],
   "source": []
  }
 ],
 "metadata": {
  "kernelspec": {
   "display_name": "Python 2",
   "language": "python",
   "name": "python2"
  },
  "language_info": {
   "codemirror_mode": {
    "name": "ipython",
    "version": 2
   },
   "file_extension": ".py",
   "mimetype": "text/x-python",
   "name": "python",
   "nbconvert_exporter": "python",
   "pygments_lexer": "ipython2",
   "version": "2.7.15"
  }
 },
 "nbformat": 4,
 "nbformat_minor": 2
}
